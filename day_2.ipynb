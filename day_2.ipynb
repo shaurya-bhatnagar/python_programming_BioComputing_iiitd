{
  "nbformat": 4,
  "nbformat_minor": 0,
  "metadata": {
    "colab": {
      "provenance": [],
      "include_colab_link": true
    },
    "kernelspec": {
      "name": "python3",
      "display_name": "Python 3"
    },
    "language_info": {
      "name": "python"
    }
  },
  "cells": [
    {
      "cell_type": "markdown",
      "metadata": {
        "id": "view-in-github",
        "colab_type": "text"
      },
      "source": [
        "<a href=\"https://colab.research.google.com/github/shaurya-bhatnagar/python_programming_BioComputing_iiitd/blob/main/day_2.ipynb\" target=\"_parent\"><img src=\"https://colab.research.google.com/assets/colab-badge.svg\" alt=\"Open In Colab\"/></a>"
      ]
    },
    {
      "cell_type": "code",
      "source": [
        "# Q1-\n",
        "seq_1 = \"RACGXSXGFKTTNPRACGKXNLLRAKCGXSXG\"\n",
        "seq_2 = \"NCKTXNLPKRAACGXNLTG\"\n",
        "seq_3 = \"LPGDXXDVNLKPFMSTRELDQDXXDLITK\"\n",
        "seq_4 = \"PKRXYKDTSYRVLNPQWLYRYCM\"\n",
        "seq_5 = \"TDRKLDGXSXGCTHYTTLKMGXSXG\"\n"
      ],
      "metadata": {
        "id": "itYcE7o4wnMM"
      },
      "execution_count": null,
      "outputs": []
    },
    {
      "cell_type": "markdown",
      "source": [
        "#Q1\n",
        "Write a Python program that classifies a given protein sequence into one of five enzyme classes based on specific hypothetical motifs. Each enzyme class is associated with a unique motif: Hydrolase (GXSXG), Transferase (KTXN), Oxidoreductase (CXXC), Lyase (DXXD), and Ligase (RXYK). The program should check if any of these motifs are present in the input sequence and print the corresponding enzyme class. If no motifs are found, the program should indicate that no matching enzyme class exists"
      ],
      "metadata": {
        "id": "rpXCdX30NNRx"
      }
    },
    {
      "cell_type": "code",
      "execution_count": null,
      "metadata": {
        "id": "bxlAtYMAjZQS",
        "colab": {
          "base_uri": "https://localhost:8080/"
        },
        "outputId": "ff337115-0d2c-4bf6-aa15-465c4d221841"
      },
      "outputs": [
        {
          "output_type": "stream",
          "name": "stdout",
          "text": [
            "Enter a protein sequence: RACGXSXGFKTTNPRACGKXNLLRAKCGXSXG\n",
            "The sequence belongs to: Hydrolase\n"
          ]
        }
      ],
      "source": [
        "def classify_enzyme(sequence):\n",
        "    # Define motifs for each enzyme class\n",
        "    hydrolase_motif = \"GXSXG\"\n",
        "    transferase_motif = \"KTXN\"\n",
        "    oxidoreductase_motif = \"CXXC\"\n",
        "    isomerase_motif = \"DXXD\"\n",
        "    ligase_motif = \"RXYK\"\n",
        "\n",
        "    # Check for motifs in the sequence\n",
        "    if hydrolase_motif in sequence:\n",
        "        return \"The sequence belongs to: Hydrolase\"\n",
        "    elif transferase_motif in sequence:\n",
        "        return \"The sequence belongs to: Transferase\"\n",
        "    elif oxidoreductase_motif in sequence:\n",
        "        return \"The sequence belongs to: Oxidoreductase\"\n",
        "    elif isomerase_motif in sequence:\n",
        "        return \"The sequence belongs to: Lyase\"\n",
        "    elif ligase_motif in sequence:\n",
        "        return \"The sequence belongs to: Ligase\"\n",
        "\n",
        "    return \"No matching enzyme class found.\"\n",
        "\n",
        "# Example usage\n",
        "sequence = input(\"Enter a protein sequence: \").upper()\n",
        "result = classify_enzyme(sequence)\n",
        "print(result)"
      ]
    },
    {
      "cell_type": "markdown",
      "source": [
        "## Q2\n",
        "Write a Python program that checks if a given amino acid sequence is valid.The program should determine if the sequence contains any invalid amino acids, defined as 'B', 'J', 'O', 'U', 'X', and 'Z'. If an invalid amino acid is found, the program should print the first invalid amino acid and state that the sequence is invalid. If the sequence contains only valid amino acids (A, C, D, E, F, G, H, I, K, L, M, N, P, Q, R, S, T, V, W, Y), the program should confirm that the sequence is valid."
      ],
      "metadata": {
        "id": "ksBaOdlAWIw4"
      }
    },
    {
      "cell_type": "code",
      "source": [
        "#Write your code here"
      ],
      "metadata": {
        "id": "kFeg2eKgjyjx"
      },
      "execution_count": null,
      "outputs": []
    },
    {
      "cell_type": "markdown",
      "source": [
        "## Q3\n",
        "### To determine the ATGC content of a given DNA sequence, count the occurrences of each nucleotide and calculate their percentage content relative to the total sequence length.\n",
        "\n",
        "#### For the sequence \"ATGCGATAACTAG\", the contents are approximately 30.77% Adenine, 23.08% Thymine, 15.38% Guanine, and 23.08% Cytosine."
      ],
      "metadata": {
        "id": "TQ8q_WsO1aDH"
      }
    },
    {
      "cell_type": "code",
      "source": [
        "# from re import L\n",
        "#Write your code here\n",
        "\n",
        "seq = input(\"Enter Sequence: \")\n",
        "\n",
        "# t = \"ATGCGATAACTAG\"\n",
        "c1 = seq.count('A')\n",
        "c2 = seq.count('T')\n",
        "c3 = seq.count('G')\n",
        "c4 = seq.count('C')\n",
        "\n",
        "l = len(seq)\n",
        "\n",
        "p1 = c1/l\n",
        "p2 = c2/l\n",
        "p3 = c3/l\n",
        "p4 = c4/l\n",
        "print(f\"The percentage of Adenine = {p1:.1%}\")\n",
        "print(f\"The percentage of T = {p2:.1%}\")\n",
        "print(f\"The percentage of G = {p3:.1%}\")\n",
        "print(f\"The percentage of C = {p4*100:.2f}%\")"
      ],
      "metadata": {
        "id": "UAYTefK7kBBW",
        "colab": {
          "base_uri": "https://localhost:8080/"
        },
        "outputId": "4c6376ed-cbd8-43b6-ff69-31868e21b6df"
      },
      "execution_count": null,
      "outputs": [
        {
          "output_type": "stream",
          "name": "stdout",
          "text": [
            "Enter Sequence: ATGCGATAACTAGCTAGCGATCGATCGTAGCTAGCTAGCTAGCATCGATCGTAGCTAGCTACGATCGTAGCTAGCTACGATCGTAGCTAGCTAGCTAGCTAGCTGATGCGATAACTAGCTAGCGATCGATCGTAGCTAGCTAGCTAGCATCGATCGTAGCTAGCTACGATCGTAGCTAGCTACGATCGTAGCTAGCTAGCTAGCTAGCTGATGCGATAACTAGCTAGCGATCGATCGTAGCTAGCTAGCTAGCATCGATCGTAGCTAGCTACGATCGTAGCTAGCTACGATCGTAGCTAGCTAGCTAGCTAGCTGATGCGATAACTAGCTAGCGATCGATCGTAGCTAGCTAGCTAGCATCGATCGTAGCTAGCTACGATCGTAGCTAGCTACGATCGTAGCTAGCTAGCTAGCTAGCTG\n",
            "The percentage of Adenine = 25.7%\n",
            "The percentage of T = 24.8%\n",
            "The percentage of G = 25.7%\n",
            "The percentage of C = 23.81%\n"
          ]
        }
      ]
    },
    {
      "cell_type": "markdown",
      "source": [
        "## Q4\n",
        "How can we construct the reverse complement of a given DNA sequence?\n",
        "\n",
        "### Explanation\n",
        "The reverse complement of a DNA sequence is obtained by two steps:\n",
        "\n",
        "### Complement: Replace each nucleotide in the sequence with its complement:\n",
        "* Adenine (A) is replaced with Thymine (T)\n",
        "* Thymine (T) is replaced with Adenine (A)\n",
        "* Guanine (G) is replaced with Cytosine (C)\n",
        "* Cytosine (C) is replaced with Guanine (G)\n",
        "\n",
        "### Reverse: Reverse the entire sequence after finding its complement.\n",
        "Example:\n",
        "Consider the following DNA sequence: \"ATGCGATAACTAG\"\n",
        "\n",
        "Complement:\n",
        "\n",
        "* A -> T\n",
        "* T -> A\n",
        "* G -> C\n",
        "* C -> G\n",
        "* G -> C\n",
        "* A -> T\n",
        "* T -> A\n",
        "* A -> T\n",
        "* A -> T\n",
        "* C -> G\n",
        "* T -> A\n",
        "* A -> T\n",
        "* G -> C\n",
        "\n",
        "* Complemented sequence: \"TACGCTATTGATC\"\n",
        "* Reverse:\n",
        "Reversed complemented sequence: \"CTAGTTATCGCAT\""
      ],
      "metadata": {
        "id": "xZEj7V2Z2VZA"
      }
    },
    {
      "cell_type": "code",
      "source": [
        "#Write your code here\n",
        "seq= input(\"Enter a DNA seq : \")\n",
        "compleseq = \"\"\n",
        "\n",
        "for i in range(len(seq)):\n",
        " if seq[i] == \"A\": compleseq = compleseq + \"T\"\n",
        " elif seq[i]==\"T\": compleseq = compleseq+\"A\"\n",
        " elif seq[i]==\"G\": compleseq = compleseq+\"C\"\n",
        " elif seq[i]==\"C\": compleseq = compleseq+\"G\"\n",
        " else: print(\"INVALID input\")\n",
        "\n",
        "print(\"Comple seq\", compleseq)\n",
        "revSeq = compleseq [::-1]\n",
        "\n",
        "print(\"Reverse seq\", revSeq)"
      ],
      "metadata": {
        "id": "DB72-PVckJqt",
        "colab": {
          "base_uri": "https://localhost:8080/"
        },
        "outputId": "10ba8ef8-6656-40cc-f304-343cd459f732"
      },
      "execution_count": null,
      "outputs": [
        {
          "output_type": "stream",
          "name": "stdout",
          "text": [
            "Enter a DNA seq : ATGCGATAACTAG\n",
            "Comple seq TACGCTATTGATC\n",
            "Reverse seq CTAGTTATCGCAT\n"
          ]
        }
      ]
    },
    {
      "cell_type": "markdown",
      "source": [
        "## Q5.\n",
        "How can we calculate the melting temperature (Tm) of a given DNA sequence?\n",
        "\n",
        "### Explanation\n",
        "The melting temperature (Tm) of a DNA sequence is the temperature at which half of the DNA duplex dissociates to become single-stranded. It is a crucial parameter in various molecular biology techniques such as PCR.\n",
        "\n",
        "### There are different methods to estimate Tm, but a commonly used method for short oligonucleotides is the Wallace rule:\n",
        "\n",
        "### For sequences shorter than 14 nucleotides:\n",
        "𝑇𝑚=2×(number of A/T)+4×(number of G/C)\n",
        "* For longer sequences, more complex formulas involving the sequence length and the concentration of ions (salt) in the solution are used, but the Wallace rule provides a quick and useful approximation.\n",
        "\n",
        "Count the Nucleotides:\n",
        "\n",
        "Adenine (A): 4\n",
        "Thymine (T): 3\n",
        "Guanine (G): 2\n",
        "Cytosine (C): 3\n",
        "Apply the Wallace Rule:\n",
        "\n",
        "Number of A/T: 7\n",
        "Number of G/C: 5\n",
        "𝑇𝑚=2×7+4×5=14+20=34∘𝐶\n",
        "Tm=2×7+4×5=14+20=34∘C\n"
      ],
      "metadata": {
        "id": "RiWQZZvz3iIx"
      }
    },
    {
      "cell_type": "code",
      "source": [
        "#Write your code here\n",
        "\n"
      ],
      "metadata": {
        "id": "ZTaS8JgbkTwU"
      },
      "execution_count": null,
      "outputs": []
    },
    {
      "cell_type": "markdown",
      "source": [
        "#Q6\n",
        " For a given sequence, find the most occurring K-mer count.\n",
        "\n"
      ],
      "metadata": {
        "id": "ZW-IAG4SHtEA"
      }
    },
    {
      "cell_type": "markdown",
      "source": [
        "Part 1: Finding the Most Occurring k-mer with k=3\n",
        "Given the nucleotide sequence: ATGCGTACGTAGCTAGCTAGCTGACGTAGCTAGCTACGATCGTACGTACGATCGTACGTAGCTAGCTACGTAGCTAGCTAGCTACGTAGCTAGCTAGCTAGCTG\n",
        "Use the kmer_count function to find the most occurring k-mer of size 3. What is the k-mer and its count in this sequence?"
      ],
      "metadata": {
        "id": "ARmb56ASkcTv"
      }
    },
    {
      "cell_type": "code",
      "source": [
        "#write your code here"
      ],
      "metadata": {
        "id": "zWAXuZsSkpR_"
      },
      "execution_count": null,
      "outputs": []
    },
    {
      "cell_type": "markdown",
      "source": [
        "Part 2: Finding the Most Occurring k-mer with k Between 10 and 15\n",
        "Given the same nucleotide sequence, Using the kmer_count function, determine the most occurring k-mer for each k value between 10 and 15. List the k-mer and its count for each value of k."
      ],
      "metadata": {
        "id": "WWaX-YQ5ktfX"
      }
    },
    {
      "cell_type": "code",
      "source": [
        "#Write your code here"
      ],
      "metadata": {
        "id": "HWAdg0GBkx3c"
      },
      "execution_count": null,
      "outputs": []
    },
    {
      "cell_type": "markdown",
      "source": [
        "## Q7.\n",
        "Given a chromosome sequence, identify the number of genes present in it by locating the start and stop codons within the sequence. How can this be achieved, and what is the count of genes in the provided sequence?\n",
        "Hint:\n",
        "To determine the number of genes in a chromosome sequence, we need to locate the start and stop codons that define the boundaries of each gene. In the context of DNA sequences, the start codon is typically \"ATG\" and the stop codons are \"TAA\", \"TAG\", and \"TGA\". The process involves scanning the sequence for these codons in all three reading frames and counting the number of valid genes.\n",
        "\n",
        "### Here's a step-by-step approach:\n",
        "\n",
        "1. Identify Start Codons: Search for the \"ATG\" codon in the sequence.\n",
        "2. Identify Stop Codons: Search for the \"TAA\", \"TAG\", and \"TGA\" codons in the sequence.\n",
        "3. Reading Frames: Since DNA can be read in three frames, repeat the search in all three frames.\n",
        "4. Gene Validation: For each start codon, find the nearest downstream stop codon in the same frame. If found, count it as a valid gene.\n",
        "\n",
        "Example\n",
        "Consider the following chromosome sequence: \"ATGCGATAACTAGATGTGA\"\n",
        "\n",
        "* Frame 1:\n",
        "Start at position 0: \"ATG\"\n",
        "Stop at position 6: \"TAA\", position 15: \"TGA\"\n",
        "Gene: \"ATGCGATAA\" (from position 0 to 8)\n",
        "* Frame 2:\n",
        "No start codons at positions 1, 4, or 7.\n",
        "* Frame 3:\n",
        "Start at position 4: \"ATG\"\n",
        "Stop at position 10: \"TAG\", position 15: \"TGA\"\n",
        "Gene: \"ATGTGA\" (from position 4 to 15)\n",
        "* Total number of genes: 2\n"
      ],
      "metadata": {
        "id": "Dod77IjNzM2T"
      }
    },
    {
      "cell_type": "code",
      "source": [
        "seq = \"ATGCGATAACTAGATGTGA\""
      ],
      "metadata": {
        "id": "V25FGu6SlB05"
      },
      "execution_count": 1,
      "outputs": []
    },
    {
      "cell_type": "code",
      "source": [
        "# searchin"
      ],
      "metadata": {
        "id": "xdfhRF38ERJv"
      },
      "execution_count": null,
      "outputs": []
    }
  ]
}
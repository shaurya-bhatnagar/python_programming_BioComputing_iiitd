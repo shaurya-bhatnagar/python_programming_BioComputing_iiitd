{
  "nbformat": 4,
  "nbformat_minor": 0,
  "metadata": {
    "colab": {
      "provenance": [],
      "include_colab_link": true
    },
    "kernelspec": {
      "name": "python3",
      "display_name": "Python 3"
    },
    "language_info": {
      "name": "python"
    }
  },
  "cells": [
    {
      "cell_type": "markdown",
      "metadata": {
        "id": "view-in-github",
        "colab_type": "text"
      },
      "source": [
        "<a href=\"https://colab.research.google.com/github/shaurya-bhatnagar/python_programming_BioComputing_iiitd/blob/main/day_2_final.ipynb\" target=\"_parent\"><img src=\"https://colab.research.google.com/assets/colab-badge.svg\" alt=\"Open In Colab\"/></a>"
      ]
    },
    {
      "cell_type": "code",
      "source": [
        "# Q1-\n",
        "seq_1 = \"RACGXSXGFKTTNPRACGKXNLLRAKCGXSXG\"\n",
        "seq_2 = \"NCKTXNLPKRAACGXNLTG\"\n",
        "seq_3 = \"LPGDXXDVNLKPFMSTRELDQDXXDLITK\"\n",
        "seq_4 = \"PKRXYKDTSYRVLNPQWLYRYCM\"\n",
        "seq_5 = \"TDRKLDGXSXGCTHYTTLKMGXSXG\"\n"
      ],
      "metadata": {
        "id": "itYcE7o4wnMM"
      },
      "execution_count": null,
      "outputs": []
    },
    {
      "cell_type": "markdown",
      "source": [
        "#Q1\n",
        "Write a Python program that classifies a given protein sequence into one of five enzyme classes based on specific hypothetical motifs. Each enzyme class is associated with a unique motif: Hydrolase (GXSXG), Transferase (KTXN), Oxidoreductase (CXXC), Lyase (DXXD), and Ligase (RXYK). The program should check if any of these motifs are present in the input sequence and print the corresponding enzyme class. If no motifs are found, the program should indicate that no matching enzyme class exists"
      ],
      "metadata": {
        "id": "rpXCdX30NNRx"
      }
    },
    {
      "cell_type": "code",
      "execution_count": null,
      "metadata": {
        "id": "bxlAtYMAjZQS",
        "colab": {
          "base_uri": "https://localhost:8080/"
        },
        "outputId": "ff337115-0d2c-4bf6-aa15-465c4d221841"
      },
      "outputs": [
        {
          "output_type": "stream",
          "name": "stdout",
          "text": [
            "Enter a protein sequence: RACGXSXGFKTTNPRACGKXNLLRAKCGXSXG\n",
            "The sequence belongs to: Hydrolase\n"
          ]
        }
      ],
      "source": [
        "def classify_enzyme(sequence):\n",
        "    # Define motifs for each enzyme class\n",
        "    hydrolase_motif = \"GXSXG\"\n",
        "    transferase_motif = \"KTXN\"\n",
        "    oxidoreductase_motif = \"CXXC\"\n",
        "    isomerase_motif = \"DXXD\"\n",
        "    ligase_motif = \"RXYK\"\n",
        "\n",
        "    # Check for motifs in the sequence\n",
        "    if hydrolase_motif in sequence:\n",
        "        return \"The sequence belongs to: Hydrolase\"\n",
        "    elif transferase_motif in sequence:\n",
        "        return \"The sequence belongs to: Transferase\"\n",
        "    elif oxidoreductase_motif in sequence:\n",
        "        return \"The sequence belongs to: Oxidoreductase\"\n",
        "    elif isomerase_motif in sequence:\n",
        "        return \"The sequence belongs to: Lyase\"\n",
        "    elif ligase_motif in sequence:\n",
        "        return \"The sequence belongs to: Ligase\"\n",
        "\n",
        "    return \"No matching enzyme class found.\"\n",
        "\n",
        "# Example usage\n",
        "sequence = input(\"Enter a protein sequence: \").upper()\n",
        "result = classify_enzyme(sequence)\n",
        "print(result)"
      ]
    },
    {
      "cell_type": "markdown",
      "source": [
        "## Q2\n",
        "Write a Python program that checks if a given amino acid sequence is valid.The program should determine if the sequence contains any invalid amino acids, defined as 'B', 'J', 'O', 'U', 'X', and 'Z'. If an invalid amino acid is found, the program should print the first invalid amino acid and state that the sequence is invalid. If the sequence contains only valid amino acids (A, C, D, E, F, G, H, I, K, L, M, N, P, Q, R, S, T, V, W, Y), the program should confirm that the sequence is valid."
      ],
      "metadata": {
        "id": "ksBaOdlAWIw4"
      }
    },
    {
      "cell_type": "code",
      "source": [
        "#Write your code here"
      ],
      "metadata": {
        "id": "kFeg2eKgjyjx"
      },
      "execution_count": null,
      "outputs": []
    },
    {
      "cell_type": "markdown",
      "source": [
        "## Q3\n",
        "### To determine the ATGC content of a given DNA sequence, count the occurrences of each nucleotide and calculate their percentage content relative to the total sequence length.\n",
        "\n",
        "#### For the sequence \"ATGCGATAACTAG\", the contents are approximately 30.77% Adenine, 23.08% Thymine, 15.38% Guanine, and 23.08% Cytosine."
      ],
      "metadata": {
        "id": "TQ8q_WsO1aDH"
      }
    },
    {
      "cell_type": "code",
      "source": [
        "# from re import L\n",
        "#Write your code here\n",
        "\n",
        "#seq = input(\"Enter Sequence: \")\n",
        "\n",
        "seq = \"ATGCGATAACTAGCTAGCGATCGATCGTAGCTAGCTAGCTAGCATCGATCGTAGCTAGCTACGATCGTAGCTAGCTACGATCGTAGCTAGCTAGCTAGCTAGCTGGCGATCGATCGTAGCTAGCTAGCTAGCATCGATCGTAGCTAGCTACGATCGTAGCTAGCTAGCTAGCTAGCTGATGCGATAACTAGCTAGCGATCGATCGTAGCTAGCTAGCTAGCATCGATCGTAGCTAGCTACGATCGTAGCTAGCTACGATCGTAGCTAGCTAGCTAGCTAGCTG\"\n",
        "\n",
        "c1 = seq.count('A')\n",
        "c2 = seq.count('T')\n",
        "c3 = seq.count('G')\n",
        "c4 = seq.count('C')\n",
        "\n",
        "l = len(seq)\n",
        "\n",
        "p1 = c1/l\n",
        "p2 = c2/l\n",
        "p3 = c3/l\n",
        "p4 = c4/l\n",
        "print(f\"The percentage of Adenine = {p1*100:.2f}%\")\n",
        "print(f\"The percentage of T = {p2*100:.2f}%\")\n",
        "print(f\"The percentage of G = {p3*100:.2f}%\")\n",
        "print(f\"The percentage of C = {p4*100:.2f}%\")"
      ],
      "metadata": {
        "id": "UAYTefK7kBBW",
        "colab": {
          "base_uri": "https://localhost:8080/"
        },
        "outputId": "a714a62c-7e34-439e-c464-7f9614437233"
      },
      "execution_count": 3,
      "outputs": [
        {
          "output_type": "stream",
          "name": "stdout",
          "text": [
            "The percentage of Adenine = 25.09%\n",
            "The percentage of T = 24.73%\n",
            "The percentage of G = 26.15%\n",
            "The percentage of C = 24.03%\n"
          ]
        }
      ]
    },
    {
      "cell_type": "markdown",
      "source": [
        "## Q4\n",
        "How can we construct the reverse complement of a given DNA sequence?\n",
        "\n",
        "### Explanation\n",
        "The reverse complement of a DNA sequence is obtained by two steps:\n",
        "\n",
        "### Complement: Replace each nucleotide in the sequence with its complement:\n",
        "* Adenine (A) is replaced with Thymine (T)\n",
        "* Thymine (T) is replaced with Adenine (A)\n",
        "* Guanine (G) is replaced with Cytosine (C)\n",
        "* Cytosine (C) is replaced with Guanine (G)\n",
        "\n",
        "### Reverse: Reverse the entire sequence after finding its complement.\n",
        "Example:\n",
        "Consider the following DNA sequence: \"ATGCGATAACTAG\"\n",
        "\n",
        "Complement:\n",
        "\n",
        "* A -> T\n",
        "* T -> A\n",
        "* G -> C\n",
        "* C -> G\n",
        "* G -> C\n",
        "* A -> T\n",
        "* T -> A\n",
        "* A -> T\n",
        "* A -> T\n",
        "* C -> G\n",
        "* T -> A\n",
        "* A -> T\n",
        "* G -> C\n",
        "\n",
        "* Complemented sequence: \"TACGCTATTGATC\"\n",
        "* Reverse:\n",
        "Reversed complemented sequence: \"CTAGTTATCGCAT\""
      ],
      "metadata": {
        "id": "xZEj7V2Z2VZA"
      }
    },
    {
      "cell_type": "code",
      "source": [
        "#Write your code here\n",
        "seq= input(\"Enter a DNA seq : \")\n",
        "compleseq = \"\"\n",
        "\n",
        "for i in range(len(seq)):\n",
        " if seq[i] == \"A\": compleseq = compleseq + \"T\"\n",
        " elif seq[i]==\"T\": compleseq = compleseq+\"A\"\n",
        " elif seq[i]==\"G\": compleseq = compleseq+\"C\"\n",
        " elif seq[i]==\"C\": compleseq = compleseq+\"G\"\n",
        " else: print(\"INVALID input\")\n",
        "\n",
        "print(\"Comple seq\", compleseq)\n",
        "revSeq = compleseq [::-1]\n",
        "\n",
        "print(\"Reverse seq\", revSeq)"
      ],
      "metadata": {
        "id": "DB72-PVckJqt",
        "colab": {
          "base_uri": "https://localhost:8080/"
        },
        "outputId": "10ba8ef8-6656-40cc-f304-343cd459f732"
      },
      "execution_count": null,
      "outputs": [
        {
          "output_type": "stream",
          "name": "stdout",
          "text": [
            "Enter a DNA seq : ATGCGATAACTAG\n",
            "Comple seq TACGCTATTGATC\n",
            "Reverse seq CTAGTTATCGCAT\n"
          ]
        }
      ]
    },
    {
      "cell_type": "markdown",
      "source": [
        "## Q5.\n",
        "How can we calculate the melting temperature (Tm) of a given DNA sequence?\n",
        "\n",
        "### Explanation\n",
        "The melting temperature (Tm) of a DNA sequence is the temperature at which half of the DNA duplex dissociates to become single-stranded. It is a crucial parameter in various molecular biology techniques such as PCR.\n",
        "\n",
        "### There are different methods to estimate Tm, but a commonly used method for short oligonucleotides is the Wallace rule:\n",
        "\n",
        "### For sequences shorter than 14 nucleotides:\n",
        "𝑇𝑚=2×(number of A/T)+4×(number of G/C)\n",
        "* For longer sequences, more complex formulas involving the sequence length and the concentration of ions (salt) in the solution are used, but the Wallace rule provides a quick and useful approximation.\n",
        "\n",
        "Count the Nucleotides:\n",
        "\n",
        "Adenine (A): 4\n",
        "Thymine (T): 3\n",
        "Guanine (G): 2\n",
        "Cytosine (C): 3\n",
        "Apply the Wallace Rule:\n",
        "\n",
        "Number of A/T: 7\n",
        "Number of G/C: 5\n",
        "𝑇𝑚=2×7+4×5=14+20=34∘𝐶\n",
        "Tm=2×7+4×5=14+20=34∘C\n"
      ],
      "metadata": {
        "id": "RiWQZZvz3iIx"
      }
    },
    {
      "cell_type": "code",
      "source": [
        "#Write your code here\n",
        "seq = input(\"Enter Sequence: \")\n",
        "\n",
        "# t = \"ATGCGATAACTAG\"\n",
        "c1 = seq.count('A')\n",
        "c2 = seq.count('T')\n",
        "c3 = seq.count('G')\n",
        "c4 = seq.count('C')\n",
        "\n",
        "l = len(seq)\n",
        "\n",
        "tm = 2 *(c1+c2) + 4 * (c3+c4)\n",
        "\n",
        "print(\"tm : {0}°C\".format(tm))\n"
      ],
      "metadata": {
        "id": "ZTaS8JgbkTwU",
        "outputId": "a1e3e517-6dcf-4ddc-ad67-a4d6f1e1f7b4",
        "colab": {
          "base_uri": "https://localhost:8080/"
        }
      },
      "execution_count": null,
      "outputs": [
        {
          "output_type": "stream",
          "name": "stdout",
          "text": [
            "Enter Sequence: AAAATTTGGCCC\n",
            "tm : 34°C\n"
          ]
        }
      ]
    },
    {
      "cell_type": "markdown",
      "source": [
        "#Q6\n",
        " For a given sequence, find the most occurring K-mer count.\n",
        "\n"
      ],
      "metadata": {
        "id": "ZW-IAG4SHtEA"
      }
    },
    {
      "cell_type": "markdown",
      "source": [
        "Part 1: Finding the Most Occurring k-mer with k=3\n",
        "Given the nucleotide sequence: ATGCGTACGTAGCTAGCTAGCTGACGTAGCTAGCTACGATCGTACGTACGATCGTACGTAGCTAGCTACGTAGCTAGCTAGCTACGTAGCTAGCTAGCTAGCTG\n",
        "Use the kmer_count function to find the most occurring k-mer of size 3. What is the k-mer and its count in this sequence?"
      ],
      "metadata": {
        "id": "ARmb56ASkcTv"
      }
    },
    {
      "cell_type": "code",
      "source": [
        "seq = \"ATGCGTACGTAGCTAGCTAGCTGACGTAGCTAGCTACGATCGTACGTACGATCGTACGTAGCTAGCTACGTAGCTAGCTAGCTACGTAGCTAGCTAGCTAGCTG\"\n",
        "n = len(seq)\n"
      ],
      "metadata": {
        "id": "zWAXuZsSkpR_"
      },
      "execution_count": 64,
      "outputs": []
    },
    {
      "cell_type": "code",
      "source": [
        "def k_mer(k : int) -> int:\n",
        "  seq_1 = \"\"\n",
        "  seq_2 = \"\"\n",
        "  max_count_k_mer_name = \"\"\n",
        "  max_count_value = 0\n",
        "  n = len(seq)\n",
        "  for i in range(0,n):\n",
        "\n",
        "    if seq.count(seq[i:i+k]) > max_count_value:\n",
        "      if len(seq[i:i+k]) != k:\n",
        "        break\n",
        "      max_count_k_mer_name = seq[i:i+k]\n",
        "      max_count_value = seq.count(seq[i:i+k])\n",
        "\n",
        "      #print(\"updating \")\n",
        "      #print(max_count_k_mer_name,\",\" ,max_count_value,\"\\n\")\n",
        "\n",
        "\n",
        "\n",
        "    seq_1 = seq_1 +seq[i:i+k] + \":\" +str(seq.count(seq[i:i+k]))+\"\\n\"\n",
        "    seq_2 = seq_2 + str(seq.count(seq[i:i+3]))+ \",\"\n",
        "\n",
        "  print(\"max {0}_mer name : {1}\".format(k,max_count_k_mer_name))\n",
        "  print(\"max {0}_mer count : {1}\".format(k,max_count_value))\n",
        "\n",
        "  #print(seq_1)\n",
        "  #print(seq_2)\n",
        "\n",
        "\n",
        "\n",
        "\n",
        "\n",
        "for k in range(1,n):\n",
        "  k_mer(k)\n",
        "\n"
      ],
      "metadata": {
        "colab": {
          "base_uri": "https://localhost:8080/"
        },
        "id": "FisLwdr2t0tb",
        "outputId": "e722ba86-7598-4a27-ab79-19080932409a"
      },
      "execution_count": 69,
      "outputs": [
        {
          "output_type": "stream",
          "name": "stdout",
          "text": [
            "max 1_mer name : G\n",
            "max 1_mer count : 28\n",
            "max 2_mer name : TA\n",
            "max 2_mer count : 21\n",
            "max 3_mer name : TAG\n",
            "max 3_mer count : 14\n",
            "max 4_mer name : TAGC\n",
            "max 4_mer count : 14\n",
            "max 5_mer name : TAGCT\n",
            "max 5_mer count : 8\n",
            "max 6_mer name : TAGCTA\n",
            "max 6_mer count : 7\n",
            "max 7_mer name : TAGCTAG\n",
            "max 7_mer count : 6\n",
            "max 8_mer name : TAGCTAGC\n",
            "max 8_mer count : 6\n",
            "max 9_mer name : ACGTAGCTA\n",
            "max 9_mer count : 5\n",
            "max 10_mer name : ACGTAGCTAG\n",
            "max 10_mer count : 5\n",
            "max 11_mer name : ACGTAGCTAGC\n",
            "max 11_mer count : 5\n",
            "max 12_mer name : ACGTAGCTAGCT\n",
            "max 12_mer count : 5\n",
            "max 13_mer name : ACGTAGCTAGCTA\n",
            "max 13_mer count : 4\n",
            "max 14_mer name : TACGTAGCTAGCTA\n",
            "max 14_mer count : 3\n",
            "max 15_mer name : TACGTAGCTAGCTAG\n",
            "max 15_mer count : 3\n",
            "max 16_mer name : TACGTAGCTAGCTAGC\n",
            "max 16_mer count : 3\n",
            "max 17_mer name : TACGTAGCTAGCTAGCT\n",
            "max 17_mer count : 2\n",
            "max 18_mer name : ATGCGTACGTAGCTAGCT\n",
            "max 18_mer count : 1\n",
            "max 19_mer name : ATGCGTACGTAGCTAGCTA\n",
            "max 19_mer count : 1\n",
            "max 20_mer name : ATGCGTACGTAGCTAGCTAG\n",
            "max 20_mer count : 1\n",
            "max 21_mer name : ATGCGTACGTAGCTAGCTAGC\n",
            "max 21_mer count : 1\n",
            "max 22_mer name : ATGCGTACGTAGCTAGCTAGCT\n",
            "max 22_mer count : 1\n",
            "max 23_mer name : ATGCGTACGTAGCTAGCTAGCTG\n",
            "max 23_mer count : 1\n",
            "max 24_mer name : ATGCGTACGTAGCTAGCTAGCTGA\n",
            "max 24_mer count : 1\n",
            "max 25_mer name : ATGCGTACGTAGCTAGCTAGCTGAC\n",
            "max 25_mer count : 1\n",
            "max 26_mer name : ATGCGTACGTAGCTAGCTAGCTGACG\n",
            "max 26_mer count : 1\n",
            "max 27_mer name : ATGCGTACGTAGCTAGCTAGCTGACGT\n",
            "max 27_mer count : 1\n",
            "max 28_mer name : ATGCGTACGTAGCTAGCTAGCTGACGTA\n",
            "max 28_mer count : 1\n",
            "max 29_mer name : ATGCGTACGTAGCTAGCTAGCTGACGTAG\n",
            "max 29_mer count : 1\n",
            "max 30_mer name : ATGCGTACGTAGCTAGCTAGCTGACGTAGC\n",
            "max 30_mer count : 1\n",
            "max 31_mer name : ATGCGTACGTAGCTAGCTAGCTGACGTAGCT\n",
            "max 31_mer count : 1\n",
            "max 32_mer name : ATGCGTACGTAGCTAGCTAGCTGACGTAGCTA\n",
            "max 32_mer count : 1\n",
            "max 33_mer name : ATGCGTACGTAGCTAGCTAGCTGACGTAGCTAG\n",
            "max 33_mer count : 1\n",
            "max 34_mer name : ATGCGTACGTAGCTAGCTAGCTGACGTAGCTAGC\n",
            "max 34_mer count : 1\n",
            "max 35_mer name : ATGCGTACGTAGCTAGCTAGCTGACGTAGCTAGCT\n",
            "max 35_mer count : 1\n",
            "max 36_mer name : ATGCGTACGTAGCTAGCTAGCTGACGTAGCTAGCTA\n",
            "max 36_mer count : 1\n",
            "max 37_mer name : ATGCGTACGTAGCTAGCTAGCTGACGTAGCTAGCTAC\n",
            "max 37_mer count : 1\n",
            "max 38_mer name : ATGCGTACGTAGCTAGCTAGCTGACGTAGCTAGCTACG\n",
            "max 38_mer count : 1\n",
            "max 39_mer name : ATGCGTACGTAGCTAGCTAGCTGACGTAGCTAGCTACGA\n",
            "max 39_mer count : 1\n",
            "max 40_mer name : ATGCGTACGTAGCTAGCTAGCTGACGTAGCTAGCTACGAT\n",
            "max 40_mer count : 1\n",
            "max 41_mer name : ATGCGTACGTAGCTAGCTAGCTGACGTAGCTAGCTACGATC\n",
            "max 41_mer count : 1\n",
            "max 42_mer name : ATGCGTACGTAGCTAGCTAGCTGACGTAGCTAGCTACGATCG\n",
            "max 42_mer count : 1\n",
            "max 43_mer name : ATGCGTACGTAGCTAGCTAGCTGACGTAGCTAGCTACGATCGT\n",
            "max 43_mer count : 1\n",
            "max 44_mer name : ATGCGTACGTAGCTAGCTAGCTGACGTAGCTAGCTACGATCGTA\n",
            "max 44_mer count : 1\n",
            "max 45_mer name : ATGCGTACGTAGCTAGCTAGCTGACGTAGCTAGCTACGATCGTAC\n",
            "max 45_mer count : 1\n",
            "max 46_mer name : ATGCGTACGTAGCTAGCTAGCTGACGTAGCTAGCTACGATCGTACG\n",
            "max 46_mer count : 1\n",
            "max 47_mer name : ATGCGTACGTAGCTAGCTAGCTGACGTAGCTAGCTACGATCGTACGT\n",
            "max 47_mer count : 1\n",
            "max 48_mer name : ATGCGTACGTAGCTAGCTAGCTGACGTAGCTAGCTACGATCGTACGTA\n",
            "max 48_mer count : 1\n",
            "max 49_mer name : ATGCGTACGTAGCTAGCTAGCTGACGTAGCTAGCTACGATCGTACGTAC\n",
            "max 49_mer count : 1\n",
            "max 50_mer name : ATGCGTACGTAGCTAGCTAGCTGACGTAGCTAGCTACGATCGTACGTACG\n",
            "max 50_mer count : 1\n",
            "max 51_mer name : ATGCGTACGTAGCTAGCTAGCTGACGTAGCTAGCTACGATCGTACGTACGA\n",
            "max 51_mer count : 1\n",
            "max 52_mer name : ATGCGTACGTAGCTAGCTAGCTGACGTAGCTAGCTACGATCGTACGTACGAT\n",
            "max 52_mer count : 1\n",
            "max 53_mer name : ATGCGTACGTAGCTAGCTAGCTGACGTAGCTAGCTACGATCGTACGTACGATC\n",
            "max 53_mer count : 1\n",
            "max 54_mer name : ATGCGTACGTAGCTAGCTAGCTGACGTAGCTAGCTACGATCGTACGTACGATCG\n",
            "max 54_mer count : 1\n",
            "max 55_mer name : ATGCGTACGTAGCTAGCTAGCTGACGTAGCTAGCTACGATCGTACGTACGATCGT\n",
            "max 55_mer count : 1\n",
            "max 56_mer name : ATGCGTACGTAGCTAGCTAGCTGACGTAGCTAGCTACGATCGTACGTACGATCGTA\n",
            "max 56_mer count : 1\n",
            "max 57_mer name : ATGCGTACGTAGCTAGCTAGCTGACGTAGCTAGCTACGATCGTACGTACGATCGTAC\n",
            "max 57_mer count : 1\n",
            "max 58_mer name : ATGCGTACGTAGCTAGCTAGCTGACGTAGCTAGCTACGATCGTACGTACGATCGTACG\n",
            "max 58_mer count : 1\n",
            "max 59_mer name : ATGCGTACGTAGCTAGCTAGCTGACGTAGCTAGCTACGATCGTACGTACGATCGTACGT\n",
            "max 59_mer count : 1\n",
            "max 60_mer name : ATGCGTACGTAGCTAGCTAGCTGACGTAGCTAGCTACGATCGTACGTACGATCGTACGTA\n",
            "max 60_mer count : 1\n",
            "max 61_mer name : ATGCGTACGTAGCTAGCTAGCTGACGTAGCTAGCTACGATCGTACGTACGATCGTACGTAG\n",
            "max 61_mer count : 1\n",
            "max 62_mer name : ATGCGTACGTAGCTAGCTAGCTGACGTAGCTAGCTACGATCGTACGTACGATCGTACGTAGC\n",
            "max 62_mer count : 1\n",
            "max 63_mer name : ATGCGTACGTAGCTAGCTAGCTGACGTAGCTAGCTACGATCGTACGTACGATCGTACGTAGCT\n",
            "max 63_mer count : 1\n",
            "max 64_mer name : ATGCGTACGTAGCTAGCTAGCTGACGTAGCTAGCTACGATCGTACGTACGATCGTACGTAGCTA\n",
            "max 64_mer count : 1\n",
            "max 65_mer name : ATGCGTACGTAGCTAGCTAGCTGACGTAGCTAGCTACGATCGTACGTACGATCGTACGTAGCTAG\n",
            "max 65_mer count : 1\n",
            "max 66_mer name : ATGCGTACGTAGCTAGCTAGCTGACGTAGCTAGCTACGATCGTACGTACGATCGTACGTAGCTAGC\n",
            "max 66_mer count : 1\n",
            "max 67_mer name : ATGCGTACGTAGCTAGCTAGCTGACGTAGCTAGCTACGATCGTACGTACGATCGTACGTAGCTAGCT\n",
            "max 67_mer count : 1\n",
            "max 68_mer name : ATGCGTACGTAGCTAGCTAGCTGACGTAGCTAGCTACGATCGTACGTACGATCGTACGTAGCTAGCTA\n",
            "max 68_mer count : 1\n",
            "max 69_mer name : ATGCGTACGTAGCTAGCTAGCTGACGTAGCTAGCTACGATCGTACGTACGATCGTACGTAGCTAGCTAC\n",
            "max 69_mer count : 1\n",
            "max 70_mer name : ATGCGTACGTAGCTAGCTAGCTGACGTAGCTAGCTACGATCGTACGTACGATCGTACGTAGCTAGCTACG\n",
            "max 70_mer count : 1\n",
            "max 71_mer name : ATGCGTACGTAGCTAGCTAGCTGACGTAGCTAGCTACGATCGTACGTACGATCGTACGTAGCTAGCTACGT\n",
            "max 71_mer count : 1\n",
            "max 72_mer name : ATGCGTACGTAGCTAGCTAGCTGACGTAGCTAGCTACGATCGTACGTACGATCGTACGTAGCTAGCTACGTA\n",
            "max 72_mer count : 1\n",
            "max 73_mer name : ATGCGTACGTAGCTAGCTAGCTGACGTAGCTAGCTACGATCGTACGTACGATCGTACGTAGCTAGCTACGTAG\n",
            "max 73_mer count : 1\n",
            "max 74_mer name : ATGCGTACGTAGCTAGCTAGCTGACGTAGCTAGCTACGATCGTACGTACGATCGTACGTAGCTAGCTACGTAGC\n",
            "max 74_mer count : 1\n",
            "max 75_mer name : ATGCGTACGTAGCTAGCTAGCTGACGTAGCTAGCTACGATCGTACGTACGATCGTACGTAGCTAGCTACGTAGCT\n",
            "max 75_mer count : 1\n",
            "max 76_mer name : ATGCGTACGTAGCTAGCTAGCTGACGTAGCTAGCTACGATCGTACGTACGATCGTACGTAGCTAGCTACGTAGCTA\n",
            "max 76_mer count : 1\n",
            "max 77_mer name : ATGCGTACGTAGCTAGCTAGCTGACGTAGCTAGCTACGATCGTACGTACGATCGTACGTAGCTAGCTACGTAGCTAG\n",
            "max 77_mer count : 1\n",
            "max 78_mer name : ATGCGTACGTAGCTAGCTAGCTGACGTAGCTAGCTACGATCGTACGTACGATCGTACGTAGCTAGCTACGTAGCTAGC\n",
            "max 78_mer count : 1\n",
            "max 79_mer name : ATGCGTACGTAGCTAGCTAGCTGACGTAGCTAGCTACGATCGTACGTACGATCGTACGTAGCTAGCTACGTAGCTAGCT\n",
            "max 79_mer count : 1\n",
            "max 80_mer name : ATGCGTACGTAGCTAGCTAGCTGACGTAGCTAGCTACGATCGTACGTACGATCGTACGTAGCTAGCTACGTAGCTAGCTA\n",
            "max 80_mer count : 1\n",
            "max 81_mer name : ATGCGTACGTAGCTAGCTAGCTGACGTAGCTAGCTACGATCGTACGTACGATCGTACGTAGCTAGCTACGTAGCTAGCTAG\n",
            "max 81_mer count : 1\n",
            "max 82_mer name : ATGCGTACGTAGCTAGCTAGCTGACGTAGCTAGCTACGATCGTACGTACGATCGTACGTAGCTAGCTACGTAGCTAGCTAGC\n",
            "max 82_mer count : 1\n",
            "max 83_mer name : ATGCGTACGTAGCTAGCTAGCTGACGTAGCTAGCTACGATCGTACGTACGATCGTACGTAGCTAGCTACGTAGCTAGCTAGCT\n",
            "max 83_mer count : 1\n",
            "max 84_mer name : ATGCGTACGTAGCTAGCTAGCTGACGTAGCTAGCTACGATCGTACGTACGATCGTACGTAGCTAGCTACGTAGCTAGCTAGCTA\n",
            "max 84_mer count : 1\n",
            "max 85_mer name : ATGCGTACGTAGCTAGCTAGCTGACGTAGCTAGCTACGATCGTACGTACGATCGTACGTAGCTAGCTACGTAGCTAGCTAGCTAC\n",
            "max 85_mer count : 1\n",
            "max 86_mer name : ATGCGTACGTAGCTAGCTAGCTGACGTAGCTAGCTACGATCGTACGTACGATCGTACGTAGCTAGCTACGTAGCTAGCTAGCTACG\n",
            "max 86_mer count : 1\n",
            "max 87_mer name : ATGCGTACGTAGCTAGCTAGCTGACGTAGCTAGCTACGATCGTACGTACGATCGTACGTAGCTAGCTACGTAGCTAGCTAGCTACGT\n",
            "max 87_mer count : 1\n",
            "max 88_mer name : ATGCGTACGTAGCTAGCTAGCTGACGTAGCTAGCTACGATCGTACGTACGATCGTACGTAGCTAGCTACGTAGCTAGCTAGCTACGTA\n",
            "max 88_mer count : 1\n",
            "max 89_mer name : ATGCGTACGTAGCTAGCTAGCTGACGTAGCTAGCTACGATCGTACGTACGATCGTACGTAGCTAGCTACGTAGCTAGCTAGCTACGTAG\n",
            "max 89_mer count : 1\n",
            "max 90_mer name : ATGCGTACGTAGCTAGCTAGCTGACGTAGCTAGCTACGATCGTACGTACGATCGTACGTAGCTAGCTACGTAGCTAGCTAGCTACGTAGC\n",
            "max 90_mer count : 1\n",
            "max 91_mer name : ATGCGTACGTAGCTAGCTAGCTGACGTAGCTAGCTACGATCGTACGTACGATCGTACGTAGCTAGCTACGTAGCTAGCTAGCTACGTAGCT\n",
            "max 91_mer count : 1\n",
            "max 92_mer name : ATGCGTACGTAGCTAGCTAGCTGACGTAGCTAGCTACGATCGTACGTACGATCGTACGTAGCTAGCTACGTAGCTAGCTAGCTACGTAGCTA\n",
            "max 92_mer count : 1\n",
            "max 93_mer name : ATGCGTACGTAGCTAGCTAGCTGACGTAGCTAGCTACGATCGTACGTACGATCGTACGTAGCTAGCTACGTAGCTAGCTAGCTACGTAGCTAG\n",
            "max 93_mer count : 1\n",
            "max 94_mer name : ATGCGTACGTAGCTAGCTAGCTGACGTAGCTAGCTACGATCGTACGTACGATCGTACGTAGCTAGCTACGTAGCTAGCTAGCTACGTAGCTAGC\n",
            "max 94_mer count : 1\n",
            "max 95_mer name : ATGCGTACGTAGCTAGCTAGCTGACGTAGCTAGCTACGATCGTACGTACGATCGTACGTAGCTAGCTACGTAGCTAGCTAGCTACGTAGCTAGCT\n",
            "max 95_mer count : 1\n",
            "max 96_mer name : ATGCGTACGTAGCTAGCTAGCTGACGTAGCTAGCTACGATCGTACGTACGATCGTACGTAGCTAGCTACGTAGCTAGCTAGCTACGTAGCTAGCTA\n",
            "max 96_mer count : 1\n",
            "max 97_mer name : ATGCGTACGTAGCTAGCTAGCTGACGTAGCTAGCTACGATCGTACGTACGATCGTACGTAGCTAGCTACGTAGCTAGCTAGCTACGTAGCTAGCTAG\n",
            "max 97_mer count : 1\n",
            "max 98_mer name : ATGCGTACGTAGCTAGCTAGCTGACGTAGCTAGCTACGATCGTACGTACGATCGTACGTAGCTAGCTACGTAGCTAGCTAGCTACGTAGCTAGCTAGC\n",
            "max 98_mer count : 1\n",
            "max 99_mer name : ATGCGTACGTAGCTAGCTAGCTGACGTAGCTAGCTACGATCGTACGTACGATCGTACGTAGCTAGCTACGTAGCTAGCTAGCTACGTAGCTAGCTAGCT\n",
            "max 99_mer count : 1\n",
            "max 100_mer name : ATGCGTACGTAGCTAGCTAGCTGACGTAGCTAGCTACGATCGTACGTACGATCGTACGTAGCTAGCTACGTAGCTAGCTAGCTACGTAGCTAGCTAGCTA\n",
            "max 100_mer count : 1\n",
            "max 101_mer name : ATGCGTACGTAGCTAGCTAGCTGACGTAGCTAGCTACGATCGTACGTACGATCGTACGTAGCTAGCTACGTAGCTAGCTAGCTACGTAGCTAGCTAGCTAG\n",
            "max 101_mer count : 1\n",
            "max 102_mer name : ATGCGTACGTAGCTAGCTAGCTGACGTAGCTAGCTACGATCGTACGTACGATCGTACGTAGCTAGCTACGTAGCTAGCTAGCTACGTAGCTAGCTAGCTAGC\n",
            "max 102_mer count : 1\n",
            "max 103_mer name : ATGCGTACGTAGCTAGCTAGCTGACGTAGCTAGCTACGATCGTACGTACGATCGTACGTAGCTAGCTACGTAGCTAGCTAGCTACGTAGCTAGCTAGCTAGCT\n",
            "max 103_mer count : 1\n"
          ]
        }
      ]
    },
    {
      "cell_type": "code",
      "source": [],
      "metadata": {
        "id": "K5C-LbW8tgUo"
      },
      "execution_count": 65,
      "outputs": []
    },
    {
      "cell_type": "markdown",
      "source": [
        "Part 2: Finding the Most Occurring k-mer with k Between 10 and 15\n",
        "Given the same nucleotide sequence, Using the kmer_count function, determine the most occurring k-mer for each k value between 10 and 15. List the k-mer and its count for each value of k."
      ],
      "metadata": {
        "id": "WWaX-YQ5ktfX"
      }
    },
    {
      "cell_type": "code",
      "source": [
        "#Write your code here"
      ],
      "metadata": {
        "id": "HWAdg0GBkx3c"
      },
      "execution_count": null,
      "outputs": []
    },
    {
      "cell_type": "markdown",
      "source": [
        "## Q7.\n",
        "Given a chromosome sequence, identify the number of genes present in it by locating the start and stop codons within the sequence. How can this be achieved, and what is the count of genes in the provided sequence?\n",
        "Hint:\n",
        "To determine the number of genes in a chromosome sequence, we need to locate the start and stop codons that define the boundaries of each gene. In the context of DNA sequences, the start codon is typically \"ATG\" and the stop codons are \"TAA\", \"TAG\", and \"TGA\". The process involves scanning the sequence for these codons in all three reading frames and counting the number of valid genes.\n",
        "\n",
        "### Here's a step-by-step approach:\n",
        "\n",
        "1. Identify Start Codons: Search for the \"ATG\" codon in the sequence.\n",
        "2. Identify Stop Codons: Search for the \"TAA\", \"TAG\", and \"TGA\" codons in the sequence.\n",
        "3. Reading Frames: Since DNA can be read in three frames, repeat the search in all three frames.\n",
        "4. Gene Validation: For each start codon, find the nearest downstream stop codon in the same frame. If found, count it as a valid gene.\n",
        "\n",
        "Example\n",
        "Consider the following chromosome sequence: \"ATGCGATAACTAGATGTGA\"\n",
        "\n",
        "* Frame 1:\n",
        "Start at position 0: \"ATG\"\n",
        "Stop at position 6: \"TAA\", position 15: \"TGA\"\n",
        "Gene: \"ATGCGATAA\" (from position 0 to 8)\n",
        "* Frame 2:\n",
        "No start codons at positions 1, 4, or 7.\n",
        "* Frame 3:\n",
        "Start at position 4: \"ATG\"\n",
        "Stop at position 10: \"TAG\", position 15: \"TGA\"\n",
        "Gene: \"ATGTGA\" (from position 4 to 15)\n",
        "* Total number of genes: 2\n"
      ],
      "metadata": {
        "id": "Dod77IjNzM2T"
      }
    },
    {
      "cell_type": "code",
      "source": [
        "seq = \"ATGCGATAACTAGATGTGA\""
      ],
      "metadata": {
        "id": "V25FGu6SlB05"
      },
      "execution_count": null,
      "outputs": []
    },
    {
      "cell_type": "code",
      "source": [
        "# searchin"
      ],
      "metadata": {
        "id": "xdfhRF38ERJv"
      },
      "execution_count": null,
      "outputs": []
    }
  ]
}
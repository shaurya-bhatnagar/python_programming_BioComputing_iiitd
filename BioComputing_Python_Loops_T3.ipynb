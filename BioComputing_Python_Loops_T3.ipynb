{
  "cells": [
    {
      "cell_type": "markdown",
      "source": [
        "This notebook is not owned by us, we have teken and compiled this from online resources."
      ],
      "metadata": {
        "id": "sR-qR1WPzIA7"
      }
    },
    {
      "cell_type": "markdown",
      "metadata": {
        "id": "RSVI7V3vMMpX"
      },
      "source": [
        "# **Loops:**\n",
        "In general, statements are executed sequentially. The first statement in a function is executed first, followed by the second, and so on.\n",
        "\n",
        "There may be a situation when you need to execute a block of code several number of times\n",
        "A loop statement allows us to execute a statement or group of statements multiple times.\n",
        "\n",
        "In Python, there are three loops:\n",
        "\n",
        "1.  While\n",
        "2.  For\n",
        "3.  Nested"
      ]
    },
    {
      "cell_type": "markdown",
      "metadata": {
        "id": "CdrL8DsGJ0Cc"
      },
      "source": [
        "**While loop:**\n",
        "\n",
        "Here, first the condition is checked and if it’s true, control will move inside the loop and execute the statements inside the loop until the condition becomes false. We use this loop when we are not sure how many times we need to execute a group of statements or you can say that when we are unsure about the number of iterations."
      ]
    },
    {
      "cell_type": "code",
      "execution_count": null,
      "metadata": {
        "colab": {
          "base_uri": "https://localhost:8080/",
          "height": 225
        },
        "id": "N2aeOTRWJvXG",
        "outputId": "fe90d71d-caaf-48c0-f7a1-986cdc7cdb4d"
      },
      "outputs": [
        {
          "name": "stdout",
          "output_type": "stream",
          "text": [
            "0\n",
            "1\n",
            "2\n",
            "3\n",
            "4\n",
            "5\n",
            "6\n",
            "7\n",
            "8\n",
            "9\n",
            "While loop end\n",
            "10\n"
          ]
        }
      ],
      "source": []
    },
    {
      "cell_type": "markdown",
      "metadata": {
        "id": "W42i-o-cMRXz"
      },
      "source": [
        "**For Loop:**\n",
        "\n",
        "Like the While loop, the For loop also allows a code block to be repeated certain number of times. The difference is, in For loop we know the amount of iterations required unlike While loop, where iterations depends on the condition."
      ]
    },
    {
      "cell_type": "code",
      "execution_count": null,
      "metadata": {
        "colab": {
          "base_uri": "https://localhost:8080/",
          "height": 69
        },
        "id": "tqiSire4MTaN",
        "outputId": "09f2248a-46c1-47e3-d23c-151ae9289a5f"
      },
      "outputs": [
        {
          "name": "stdout",
          "output_type": "stream",
          "text": [
            "Spinach\n",
            "Mango\n",
            "Tomato\n"
          ]
        }
      ],
      "source": [
        "\n"
      ]
    },
    {
      "cell_type": "code",
      "execution_count": null,
      "metadata": {
        "colab": {
          "base_uri": "https://localhost:8080/",
          "height": 34
        },
        "id": "xsPwuCc2Rx_o",
        "outputId": "6b30d51b-ccf4-45a8-acfb-b6dd9d5c161c"
      },
      "outputs": [
        {
          "name": "stdout",
          "output_type": "stream",
          "text": [
            "Mango\n"
          ]
        }
      ],
      "source": []
    },
    {
      "cell_type": "code",
      "execution_count": null,
      "metadata": {
        "colab": {
          "base_uri": "https://localhost:8080/",
          "height": 68
        },
        "id": "eOvCa_YCNuOv",
        "outputId": "c9baf5e6-b6fe-4642-be8f-2a5c4ec4205a"
      },
      "outputs": [
        {
          "name": "stdout",
          "output_type": "stream",
          "text": [
            "Dad Goku\n",
            "Mom Chichi\n",
            "No. of Children 2\n"
          ]
        }
      ],
      "source": []
    },
    {
      "cell_type": "code",
      "execution_count": null,
      "metadata": {
        "colab": {
          "base_uri": "https://localhost:8080/",
          "height": 34
        },
        "id": "AufenN-nOkym",
        "outputId": "c8fafa14-3c80-406b-f3c3-2f0199b74662"
      },
      "outputs": [
        {
          "name": "stdout",
          "output_type": "stream",
          "text": [
            "Can't find Mango\n"
          ]
        }
      ],
      "source": []
    },
    {
      "cell_type": "markdown",
      "metadata": {
        "id": "POX1jpBnRMup"
      },
      "source": [
        "**Nested Loops**\n",
        "\n",
        "A nested loop is a loop inside a loop.\n",
        "\n",
        "The \"inner loop\" will be executed one time for each iteration of the \"outer loop\":"
      ]
    },
    {
      "cell_type": "code",
      "execution_count": null,
      "metadata": {
        "colab": {
          "base_uri": "https://localhost:8080/",
          "height": 175
        },
        "id": "72iV-7CyRWuJ",
        "outputId": "71285a34-ce18-434c-fb45-0a7e297b61e5"
      },
      "outputs": [
        {
          "name": "stdout",
          "output_type": "stream",
          "text": [
            "Red - Apples\n",
            "Red - Mangoes\n",
            "Red - Grapes\n",
            "Yellow - Apples\n",
            "Yellow - Mangoes\n",
            "Yellow - Grapes\n",
            "Green - Apples\n",
            "Green - Mangoes\n",
            "Green - Grapes\n"
          ]
        }
      ],
      "source": []
    },
    {
      "cell_type": "code",
      "execution_count": null,
      "metadata": {
        "colab": {
          "base_uri": "https://localhost:8080/",
          "height": 70
        },
        "id": "t-YNe2y5aLE-",
        "outputId": "db559a76-3976-45bd-cf57-81d66b8bb6d5"
      },
      "outputs": [
        {
          "name": "stdout",
          "output_type": "stream",
          "text": [
            "Red Apples\n",
            "Yellow Mangoes\n",
            "Green Grapes\n"
          ]
        }
      ],
      "source": []
    },
    {
      "cell_type": "code",
      "execution_count": null,
      "metadata": {
        "colab": {
          "base_uri": "https://localhost:8080/",
          "height": 323
        },
        "id": "3oXw24ZMR51_",
        "outputId": "bca19e58-ab9b-488e-ac0f-78d63bead8d8"
      },
      "outputs": [
        {
          "name": "stdout",
          "output_type": "stream",
          "text": [
            "Red - Apples - Smooth\n",
            "Red - Apples - Rough\n",
            "Red - Mangoes - Smooth\n",
            "Red - Mangoes - Rough\n",
            "Red - Grapes - Smooth\n",
            "Red - Grapes - Rough\n",
            "Yellow - Apples - Smooth\n",
            "Yellow - Apples - Rough\n",
            "Yellow - Mangoes - Smooth\n",
            "Yellow - Mangoes - Rough\n",
            "Yellow - Grapes - Smooth\n",
            "Yellow - Grapes - Rough\n",
            "Green - Apples - Smooth\n",
            "Green - Apples - Rough\n",
            "Green - Mangoes - Smooth\n",
            "Green - Mangoes - Rough\n",
            "Green - Grapes - Smooth\n",
            "Green - Grapes - Rough\n"
          ]
        }
      ],
      "source": []
    },
    {
      "cell_type": "code",
      "execution_count": null,
      "metadata": {
        "colab": {
          "base_uri": "https://localhost:8080/",
          "height": 70
        },
        "id": "qL9d3LlXdVsO",
        "outputId": "46096ef9-dade-4eca-eb94-e77812f521f4"
      },
      "outputs": [
        {
          "name": "stdout",
          "output_type": "stream",
          "text": [
            "Red Apples Smooth\n",
            "Yellow Mangoes Rough\n",
            "Green Grapes Soft\n"
          ]
        }
      ],
      "source": []
    },
    {
      "cell_type": "code",
      "execution_count": null,
      "metadata": {
        "colab": {
          "base_uri": "https://localhost:8080/",
          "height": 35
        },
        "id": "SjK_B6HHSg-S",
        "outputId": "18a88831-4550-4f40-8884-2f2cbc096ea9"
      },
      "outputs": [
        {
          "name": "stdout",
          "output_type": "stream",
          "text": [
            "[1, 2, 3, 4]\n"
          ]
        }
      ],
      "source": []
    },
    {
      "cell_type": "code",
      "execution_count": null,
      "metadata": {
        "colab": {
          "base_uri": "https://localhost:8080/",
          "height": 119
        },
        "id": "_6csInMk5uoH",
        "outputId": "d90ed92f-d51a-429f-f69c-483e85ad51ee"
      },
      "outputs": [
        {
          "data": {
            "text/plain": [
              "{'Hina': 23,\n",
              " 'Kuroko': 30,\n",
              " 'Naruto': 15,\n",
              " 'Ryuzaki': 18,\n",
              " 'Vegeta': 17,\n",
              " 'Zoro': 25}"
            ]
          },
          "execution_count": 22,
          "metadata": {
            "tags": []
          },
          "output_type": "execute_result"
        }
      ],
      "source": []
    },
    {
      "cell_type": "code",
      "execution_count": null,
      "metadata": {
        "colab": {
          "base_uri": "https://localhost:8080/",
          "height": 191
        },
        "id": "zvDGp4TRYNjk",
        "outputId": "6d16ee28-9e53-4596-c4be-c6302e48980d"
      },
      "outputs": [
        {
          "name": "stdout",
          "output_type": "stream",
          "text": [
            "          \n",
            "         * \n",
            "        * * \n",
            "       * * * \n",
            "      * * * * \n",
            "     * * * * * \n",
            "    * * * * * * \n",
            "   * * * * * * * \n",
            "  * * * * * * * * \n",
            " * * * * * * * * * \n"
          ]
        }
      ],
      "source": []
    },
    {
      "cell_type": "code",
      "execution_count": null,
      "metadata": {
        "colab": {
          "base_uri": "https://localhost:8080/",
          "height": 191
        },
        "id": "DcmrF2TkulGA",
        "outputId": "dbb76a73-cb0d-4156-f6b2-dad45a8c20bc"
      },
      "outputs": [
        {
          "name": "stdout",
          "output_type": "stream",
          "text": [
            "\n",
            " *\n",
            " * *\n",
            " * * *\n",
            " * * * *\n",
            " * * * * *\n",
            " * * * *\n",
            " * * *\n",
            " * *\n",
            " *\n"
          ]
        }
      ],
      "source": []
    },
    {
      "cell_type": "markdown",
      "metadata": {
        "id": "u64LQwaoY3sn"
      },
      "source": [
        "# **Functions:**\n",
        "\n",
        "Functions are a convenient way to divide your code into useful blocks, allowing us to order our code, make it more readable, reuse it and save some time."
      ]
    },
    {
      "cell_type": "markdown",
      "metadata": {
        "id": "41Sl4Q_RZOqY"
      },
      "source": [
        "**Define a function with no arguments and no return values:**"
      ]
    },
    {
      "cell_type": "code",
      "execution_count": null,
      "metadata": {
        "id": "7lPlGuNiY_xP"
      },
      "outputs": [],
      "source": [
        "def print_text():\n",
        "    print('this is text')"
      ]
    },
    {
      "cell_type": "code",
      "execution_count": null,
      "metadata": {
        "colab": {
          "base_uri": "https://localhost:8080/",
          "height": 35
        },
        "id": "_9uSsLHPZKi5",
        "outputId": "ccafa6df-ef75-45e4-e6e5-8e1939771963"
      },
      "outputs": [
        {
          "name": "stdout",
          "output_type": "stream",
          "text": [
            "this is text\n"
          ]
        }
      ],
      "source": [
        "# call the function\n",
        "print_text()"
      ]
    },
    {
      "cell_type": "markdown",
      "metadata": {
        "id": "2iYTL18xZS6Q"
      },
      "source": [
        "**Define a function with one argument and no return values:**"
      ]
    },
    {
      "cell_type": "code",
      "execution_count": null,
      "metadata": {
        "id": "Vo-cD2OxZUuB"
      },
      "outputs": [],
      "source": []
    },
    {
      "cell_type": "code",
      "execution_count": null,
      "metadata": {
        "colab": {
          "base_uri": "https://localhost:8080/",
          "height": 34
        },
        "id": "7D16LaH5ZWHY",
        "outputId": "79b32571-d094-41b2-cc0d-e1f85741ae6d"
      },
      "outputs": [
        {
          "name": "stdout",
          "output_type": "stream",
          "text": [
            "3\n"
          ]
        }
      ],
      "source": []
    },
    {
      "cell_type": "markdown",
      "metadata": {
        "id": "35bK9N-FZbsg"
      },
      "source": [
        "**Define a function with one argument and one return value:**"
      ]
    },
    {
      "cell_type": "code",
      "execution_count": null,
      "metadata": {
        "colab": {
          "base_uri": "https://localhost:8080/",
          "height": 34
        },
        "id": "z1jqUXCiZfk5",
        "outputId": "7173699b-fee4-4388-838f-dc5ed904a0ba"
      },
      "outputs": [
        {
          "data": {
            "text/plain": [
              "25"
            ]
          },
          "execution_count": 28,
          "metadata": {
            "tags": []
          },
          "output_type": "execute_result"
        }
      ],
      "source": [
        "def square(x):\n",
        "    return x**2\n",
        "square(5)"
      ]
    },
    {
      "cell_type": "code",
      "execution_count": null,
      "metadata": {
        "id": "ne0NdmCn5ul9"
      },
      "outputs": [],
      "source": [
        "#Example\n",
        "\n",
        "def calc(a, b, op='add'):\n",
        "\n",
        "    if op == 'add':\n",
        "        return a + b\n",
        "\n",
        "    elif op == 'sub':\n",
        "        return a - b\n",
        "\n",
        "    else:\n",
        "        print('valid operations are add and sub')"
      ]
    },
    {
      "cell_type": "code",
      "execution_count": null,
      "metadata": {
        "colab": {
          "base_uri": "https://localhost:8080/",
          "height": 35
        },
        "id": "hH_4MlBcaOjZ",
        "outputId": "14253348-7ae7-419c-80d0-2a30885cbad9"
      },
      "outputs": [
        {
          "data": {
            "text/plain": [
              "14"
            ]
          },
          "execution_count": 17,
          "metadata": {
            "tags": []
          },
          "output_type": "execute_result"
        }
      ],
      "source": [
        "# call the function\n",
        "calc(10, 4, op='add')"
      ]
    },
    {
      "cell_type": "code",
      "execution_count": null,
      "metadata": {
        "colab": {
          "base_uri": "https://localhost:8080/",
          "height": 34
        },
        "id": "6yJj0Zr4af0w",
        "outputId": "0008db64-99e9-495d-bae4-f9227f322e73"
      },
      "outputs": [
        {
          "data": {
            "text/plain": [
              "14"
            ]
          },
          "execution_count": 31,
          "metadata": {
            "tags": []
          },
          "output_type": "execute_result"
        }
      ],
      "source": [
        "# unnamed arguments are inferred by position\n",
        "calc(10, 4, 'add')"
      ]
    },
    {
      "cell_type": "code",
      "execution_count": null,
      "metadata": {
        "colab": {
          "base_uri": "https://localhost:8080/",
          "height": 34
        },
        "id": "yy-kreh6agU4",
        "outputId": "ea6bdf09-47e6-4656-eab6-a57246940674"
      },
      "outputs": [
        {
          "data": {
            "text/plain": [
              "14"
            ]
          },
          "execution_count": 32,
          "metadata": {
            "tags": []
          },
          "output_type": "execute_result"
        }
      ],
      "source": [
        "# default for 'op' is 'add'\n",
        "calc(10, 4)"
      ]
    },
    {
      "cell_type": "code",
      "execution_count": null,
      "metadata": {
        "colab": {
          "base_uri": "https://localhost:8080/",
          "height": 35
        },
        "id": "TnLSMIGeahaZ",
        "outputId": "c7796064-8c36-4306-856b-aead947e65f7"
      },
      "outputs": [
        {
          "data": {
            "text/plain": [
              "6"
            ]
          },
          "execution_count": 18,
          "metadata": {
            "tags": []
          },
          "output_type": "execute_result"
        }
      ],
      "source": [
        "calc(10, 4, 'sub')"
      ]
    },
    {
      "cell_type": "markdown",
      "metadata": {
        "id": "J-VXN_PKasK5"
      },
      "source": [
        "**Use pass as a placeholder if you haven't written the function body:**"
      ]
    },
    {
      "cell_type": "code",
      "execution_count": null,
      "metadata": {
        "id": "TwMQFziQatdI"
      },
      "outputs": [],
      "source": [
        "def stub():\n",
        "    pass"
      ]
    },
    {
      "cell_type": "markdown",
      "metadata": {
        "id": "8XwkxOYsayA5"
      },
      "source": [
        "**Return two values from a single function:**"
      ]
    },
    {
      "cell_type": "code",
      "execution_count": null,
      "metadata": {
        "id": "lMkT5MqKa5vg"
      },
      "outputs": [],
      "source": [
        "def min_max(nums):\n",
        "    return min(nums), max(nums)"
      ]
    },
    {
      "cell_type": "code",
      "execution_count": null,
      "metadata": {
        "colab": {
          "base_uri": "https://localhost:8080/",
          "height": 34
        },
        "id": "4kGkSJ4Aa9Lo",
        "outputId": "8668913a-6814-4fbc-ba3b-159071e0021d"
      },
      "outputs": [
        {
          "data": {
            "text/plain": [
              "(1, 3)"
            ]
          },
          "execution_count": 35,
          "metadata": {
            "tags": []
          },
          "output_type": "execute_result"
        }
      ],
      "source": []
    }
  ],
  "metadata": {
    "colab": {
      "collapsed_sections": [
        "lftlrceMeClR",
        "WCjQDt3_lCxz"
      ],
      "provenance": []
    },
    "kernelspec": {
      "display_name": "Python 3",
      "name": "python3"
    }
  },
  "nbformat": 4,
  "nbformat_minor": 0
}
{
  "nbformat": 4,
  "nbformat_minor": 0,
  "metadata": {
    "colab": {
      "provenance": [],
      "include_colab_link": true
    },
    "kernelspec": {
      "name": "python3",
      "display_name": "Python 3"
    },
    "language_info": {
      "name": "python"
    }
  },
  "cells": [
    {
      "cell_type": "markdown",
      "metadata": {
        "id": "view-in-github",
        "colab_type": "text"
      },
      "source": [
        "<a href=\"https://colab.research.google.com/github/shaurya-bhatnagar/python_programming_BioComputing_iiitd/blob/main/Biocomputing_18_07.ipynb\" target=\"_parent\"><img src=\"https://colab.research.google.com/assets/colab-badge.svg\" alt=\"Open In Colab\"/></a>"
      ]
    },
    {
      "cell_type": "markdown",
      "source": [
        "#Q1\n",
        "Write a Python program that identifies all non-overlapping occurrences of a DNA motif in a given sequence. The motif consists of substrings composed of 'A' and/or 'T' with lengths between 3 and 6 characters. The program should return each motif found along with its starting and ending indices in the sequence. Input DNA sequence = 'AATGAAGGGCCGCTACGATAAGGAACTTCGTAATTTCAG'"
      ],
      "metadata": {
        "id": "Yh4rzsDUwOsR"
      }
    },
    {
      "cell_type": "code",
      "execution_count": null,
      "metadata": {
        "id": "I7lp-zH0wNu_",
        "colab": {
          "base_uri": "https://localhost:8080/"
        },
        "outputId": "7d8711db-f891-48dd-cb44-71264296afb2"
      },
      "outputs": [
        {
          "output_type": "stream",
          "name": "stdout",
          "text": [
            "scanning char A\n",
            "scanning char A\n",
            "scanning char T\n",
            "scanning char G\n",
            "AAAT\n",
            "scanning char A\n",
            "scanning char A\n",
            "scanning char G\n",
            "AAA\n",
            "scanning char G\n",
            "scanning char G\n",
            "scanning char C\n",
            "scanning char C\n",
            "scanning char G\n",
            "scanning char C\n",
            "scanning char T\n",
            "scanning char A\n",
            "scanning char C\n",
            "TTA\n",
            "scanning char G\n",
            "scanning char A\n",
            "scanning char T\n",
            "scanning char A\n",
            "scanning char A\n",
            "scanning char G\n",
            "AATAA\n",
            "scanning char G\n",
            "scanning char A\n",
            "scanning char A\n",
            "scanning char C\n",
            "AAA\n",
            "scanning char T\n",
            "scanning char T\n",
            "scanning char C\n",
            "TTT\n",
            "scanning char G\n",
            "scanning char T\n",
            "scanning char A\n",
            "scanning char A\n",
            "scanning char T\n",
            "scanning char T\n",
            "scanning char T\n",
            "scanning char C\n",
            "TTAATTT\n",
            "scanning char A\n",
            "scanning char G\n",
            "AA\n"
          ]
        }
      ],
      "source": [
        "#write your code here\n",
        "seq = 'AATGAAGGGCCGCTACGATAAGGAACTTCGTAATTTCAG'\n",
        "\n",
        "state = 0\n",
        "\n",
        "cur_str = \"\"\n",
        "for char in seq:\n",
        "  print(\"scanning char {0}\".format(char))\n",
        "\n",
        "  if(len(cur_str))\n",
        "  if state == 0 and (char == \"A\" or char == \"T\" ):\n",
        "    cur_str = cur_str + char\n",
        "    state = 1\n",
        "  if state == 1 and (char == \"A\" or char == \"T\" ):\n",
        "    cur_str += char\n",
        "    state = 1\n",
        "  if state == 1 and (char == \"G\" or char == \"C\" ):\n",
        "\n",
        "    state = 2\n",
        "\n",
        "\n",
        "  if state == 2 :\n",
        "    print(cur_str)\n",
        "\n",
        "    cur_str = \"\"\n",
        "    state = 0\n"
      ]
    },
    {
      "cell_type": "code",
      "source": [
        "import re\n"
      ],
      "metadata": {
        "id": "Q-XCChurMbs5"
      },
      "execution_count": null,
      "outputs": []
    },
    {
      "cell_type": "code",
      "source": [
        "seq = 'AATGAAGGGCCGCTACGATAAGGAACTTCGTAATTTCAG'\n",
        "len_3 = re.findall(\"^(A|T)\",seq)\n",
        "\n",
        "\n",
        "print(len_3 )\n"
      ],
      "metadata": {
        "colab": {
          "base_uri": "https://localhost:8080/"
        },
        "id": "cS70-BaoMekm",
        "outputId": "ddf72ee0-5ea0-4206-e7fb-45e817221481"
      },
      "execution_count": null,
      "outputs": [
        {
          "output_type": "stream",
          "name": "stdout",
          "text": [
            "['A']\n"
          ]
        }
      ]
    },
    {
      "cell_type": "markdown",
      "source": [
        "#Q2\n",
        "Open reading frames (ORFs) are regions of DNA that can be translated into proteins. An ORF starts with a start codon (such as ATG) and ends with one of the stop codons (such as TAA, TAG, or TGA). Write a Python function using the re library to identify all ORFs in a given DNA sequence. Your function should return the starting and ending indices (0-based) of each ORF.\n",
        "\n",
        "Details:\n",
        "\n",
        "The DNA sequence is a string consisting of characters 'A', 'C', 'G', and 'T'. The start codon is always ATG. The stop codons are TAA, TAG, and TGA.\n",
        "\n",
        "Input seq = 'ATGCGATCGACGCTAGCGATCGCGATCGATGGCGATCGCTAGCGATCGATCGCGATCGTAAAGGCTACGTGTCAGTAA'\n",
        "\n"
      ],
      "metadata": {
        "id": "gKo9WNOVtDaF"
      }
    },
    {
      "cell_type": "code",
      "source": [
        "#write your code here"
      ],
      "metadata": {
        "id": "40f65LQBwXoB"
      },
      "execution_count": null,
      "outputs": []
    }
  ]
}